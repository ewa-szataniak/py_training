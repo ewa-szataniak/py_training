{
  "cells": [
    {
      "attachments": {},
      "cell_type": "markdown",
      "metadata": {
        "id": "FvtlpV0GOCqn"
      },
      "source": [
        "# Functions, Scoping, Data Collections 1 & List Comprehensions"
      ]
    },
    {
      "attachments": {},
      "cell_type": "markdown",
      "metadata": {
        "id": "zrkCjURFOCqp"
      },
      "source": [
        "## Tasks Today:\n",
        "\n",
        "<i>Monday Additions (for loops)</i>\n",
        "\n",
        "1) For Loops <br>\n",
        " &nbsp;&nbsp;&nbsp;&nbsp; a) Using 'in' keyword <br>\n",
        " &nbsp;&nbsp;&nbsp;&nbsp; b) Continue Statement <br>\n",
        " &nbsp;&nbsp;&nbsp;&nbsp; c) Break Statement <br>\n",
        " &nbsp;&nbsp;&nbsp;&nbsp; d) Pass Statement <br>\n",
        " &nbsp;&nbsp;&nbsp;&nbsp; e) Double For Loops <br>\n",
        "2) While Loops <br>\n",
        " &nbsp;&nbsp;&nbsp;&nbsp; a) Looping 'While True' <br>\n",
        " &nbsp;&nbsp;&nbsp;&nbsp; b) While and For Loops Used Together <br>\n",
        " \n",
        "3) Lists <br>\n",
        " &nbsp;&nbsp;&nbsp;&nbsp; a) Declaring Lists <br>\n",
        " &nbsp;&nbsp;&nbsp;&nbsp; b) Indexing a List <br>\n",
        " &nbsp;&nbsp;&nbsp;&nbsp; c) .append() <br>\n",
        " &nbsp;&nbsp;&nbsp;&nbsp; d) .insert() <br>\n",
        " &nbsp;&nbsp;&nbsp;&nbsp; e) .pop() <br>\n",
        " &nbsp;&nbsp;&nbsp;&nbsp; f) .remove() <br>\n",
        " &nbsp;&nbsp;&nbsp;&nbsp; g) del() <br>\n",
        " &nbsp;&nbsp;&nbsp;&nbsp; h) Concatenating Two Lists <br>\n",
        " &nbsp;&nbsp;&nbsp;&nbsp; i) Lists Within Lists <br>\n",
        " &nbsp;&nbsp;&nbsp;&nbsp; j) Looping Through Lists <br>\n",
        "4) Working With Lists <br>\n",
        " &nbsp;&nbsp;&nbsp;&nbsp; a) min() <br>\n",
        " &nbsp;&nbsp;&nbsp;&nbsp; b) max() <br>\n",
        " &nbsp;&nbsp;&nbsp;&nbsp; c) sum() <br>\n",
        " &nbsp;&nbsp;&nbsp;&nbsp; d) sort() <br>\n",
        " &nbsp;&nbsp;&nbsp;&nbsp; e) Copying a List <br>\n",
        " &nbsp;&nbsp;&nbsp;&nbsp; f) 'in' keyword <br>\n",
        " &nbsp;&nbsp;&nbsp;&nbsp; g) 'not in' keyword <br>\n",
        " &nbsp;&nbsp;&nbsp;&nbsp; i) Checking an Empty List <br>\n",
        " &nbsp;&nbsp;&nbsp;&nbsp; j) Removing Instances with a Loop <br> \n",
        "5) List Comprehensions <br>\n",
        "6) Tuples <br>\n",
        " &nbsp;&nbsp;&nbsp;&nbsp; a) sorted() <br>\n"
      ]
    },
    {
      "attachments": {},
      "cell_type": "markdown",
      "metadata": {
        "id": "s3iWuBggOCqp"
      },
      "source": [
        "### For Loops"
      ]
    },
    {
      "cell_type": "code",
      "execution_count": null,
      "metadata": {
        "id": "maHnHi-hOCqq"
      },
      "outputs": [],
      "source": [
        "# for keyword, counter/iterator, in keyword, object\n",
        "\n",
        "# for i in range(10):\n",
        "#     print(i)\n",
        "    \n",
        "name = \"Ryan Rhoades\"\n",
        "# for letter in name:\n",
        "#     print(letter)\n",
        "\n",
        "# print(len(name))\n",
        "# for i in range(len(name)):\n",
        "#     print(name[i])\n",
        "\n",
        "print(name[4])\n",
        "\n",
        "    \n"
      ]
    },
    {
      "attachments": {},
      "cell_type": "markdown",
      "metadata": {
        "id": "OMk4thnbOCqr"
      },
      "source": [
        "##### Using 'in' keyword"
      ]
    },
    {
      "cell_type": "code",
      "execution_count": null,
      "metadata": {
        "id": "xTg06UDOOCqr"
      },
      "outputs": [],
      "source": [
        "#in is what accesses the items in an iterable\n",
        "for i in range(15):\n",
        "    print(i**2)"
      ]
    },
    {
      "attachments": {},
      "cell_type": "markdown",
      "metadata": {
        "id": "59fUX0MxOCqr"
      },
      "source": [
        "##### Continue Statement"
      ]
    },
    {
      "cell_type": "code",
      "execution_count": null,
      "metadata": {
        "id": "ha8DlCxlOCqs"
      },
      "outputs": [],
      "source": [
        "for i in range(20):\n",
        "    print(i)\n",
        "    \n",
        "#will continue to the next iteration\n",
        "for i in range(20):\n",
        "    if i == 5 or i == 6:\n",
        "        continue\n",
        "    print(i)\n",
        "\n"
      ]
    },
    {
      "attachments": {},
      "cell_type": "markdown",
      "metadata": {
        "id": "9h0j6R65OCqs"
      },
      "source": [
        "##### Break Statement"
      ]
    },
    {
      "cell_type": "code",
      "execution_count": null,
      "metadata": {
        "id": "-jxtoIPpOCqs"
      },
      "outputs": [],
      "source": [
        "for i in range(10):\n",
        "    print(i)\n",
        "\n",
        "# will break out of current loop\n",
        "print(\"\\n\")\n",
        "for i in range(10):\n",
        "    if i == 6:\n",
        "        break\n",
        "    print(i)\n"
      ]
    },
    {
      "attachments": {},
      "cell_type": "markdown",
      "metadata": {
        "id": "mHK1tW6rOCqs"
      },
      "source": [
        "##### Pass Statement"
      ]
    },
    {
      "cell_type": "code",
      "execution_count": null,
      "metadata": {
        "id": "PHnyvOffOCqt"
      },
      "outputs": [],
      "source": [
        "# mostly used as a placeholder, and will continue on same iteration\n",
        "for i in range(20):\n",
        "    pass #todo: come do things with this later\n",
        "\n",
        "# def my_func():\n",
        "#     pass\n",
        "    \n",
        "\n",
        "# def my_func2():\n",
        "#     for i in range(10):\n",
        "#         print(i)\n",
        "# my_func2()\n",
        "    "
      ]
    },
    {
      "attachments": {},
      "cell_type": "markdown",
      "metadata": {
        "id": "B3mFTvIWOCqt"
      },
      "source": [
        "##### Double For Loops"
      ]
    },
    {
      "cell_type": "code",
      "execution_count": null,
      "metadata": {
        "id": "OlaCihHROCqt",
        "outputId": "b53c4a94-1225-48db-fc1a-5336c5678e4a"
      },
      "outputs": [
        {
          "name": "stdout",
          "output_type": "stream",
          "text": [
            "i =  0 j =  0\n",
            "i =  0 j =  1\n",
            "i =  0 j =  2\n",
            "i =  0 j =  3\n",
            "i =  0 j =  4\n",
            "i =  1 j =  0\n",
            "i =  1 j =  1\n",
            "i =  1 j =  2\n",
            "i =  1 j =  3\n",
            "i =  1 j =  4\n",
            "i =  2 j =  0\n",
            "i =  2 j =  1\n",
            "i =  2 j =  2\n",
            "i =  2 j =  3\n",
            "i =  2 j =  4\n",
            "i =  3 j =  0\n",
            "i =  3 j =  1\n",
            "i =  3 j =  2\n",
            "i =  3 j =  3\n",
            "i =  3 j =  4\n",
            "i =  4 j =  0\n",
            "i =  4 j =  1\n",
            "i =  4 j =  2\n",
            "i =  4 j =  3\n",
            "i =  4 j =  4\n"
          ]
        }
      ],
      "source": [
        "for i in range(5):\n",
        "    for j in range(5):\n",
        "        print(\"i = \", i, \"j = \", j)"
      ]
    },
    {
      "cell_type": "code",
      "execution_count": null,
      "metadata": {
        "id": "exvQ9ZtZOCqu",
        "scrolled": true
      },
      "outputs": [],
      "source": [
        "for i in range(5):\n",
        "    for j in range(5):\n",
        "        print(i + j)"
      ]
    },
    {
      "cell_type": "code",
      "execution_count": null,
      "metadata": {
        "id": "jItS0ZXJOCqu"
      },
      "outputs": [],
      "source": [
        "my_string = \"Hello my name is Ryan. This is a cool class This is cool Have a nice day cool\"\n",
        "\n",
        "my_dict = {}\n",
        "\n",
        "for char in my_string.split():\n",
        "    if char not in my_dict:\n",
        "        my_dict[char] = 1\n",
        "    else:\n",
        "        my_dict[char] += 1\n",
        "\n",
        "print(my_dict)\n",
        "\n",
        "print(my_dict.values())\n",
        "\n"
      ]
    },
    {
      "attachments": {},
      "cell_type": "markdown",
      "metadata": {
        "id": "M1Te1Oj-OCqu"
      },
      "source": [
        "### While Loops"
      ]
    },
    {
      "cell_type": "code",
      "execution_count": null,
      "metadata": {
        "id": "bnBQO5jnOCqu"
      },
      "outputs": [],
      "source": [
        "#while keyword, condition statement\n",
        "#while loop will run based on the condition statement\n",
        "\n",
        "counter = 0\n",
        "\n",
        "while counter < 11:\n",
        "    counter += 1\n",
        "    print(counter)\n",
        "   \n",
        "\n",
        "    \n",
        "print(\"\\n\")\n",
        "\n",
        "num = 0\n",
        "while num < 15:\n",
        "    print(num**2)\n",
        "    num += 1\n",
        "    \n"
      ]
    },
    {
      "cell_type": "code",
      "execution_count": null,
      "metadata": {
        "id": "zeeXPnOhOCqu"
      },
      "outputs": [],
      "source": [
        "num = 0\n",
        "\n",
        "while num < 10:\n",
        "   \n",
        "    num +=1\n",
        "    print(num)"
      ]
    },
    {
      "attachments": {},
      "cell_type": "markdown",
      "metadata": {
        "id": "VhL_NjYHOCqu"
      },
      "source": [
        "##### looping 'While True'"
      ]
    },
    {
      "cell_type": "code",
      "execution_count": null,
      "metadata": {
        "id": "m7NgMfFcOCqu"
      },
      "outputs": [],
      "source": [
        "# true as a condition for while loop to run\n",
        "game_over = False\n",
        "while True:\n",
        "    print(\"Infinite Loop\")\n",
        "    if game_over == False:\n",
        "        break"
      ]
    },
    {
      "cell_type": "code",
      "execution_count": null,
      "metadata": {
        "id": "-IR5O_2BOCqv"
      },
      "outputs": [],
      "source": [
        "game = True\n",
        "\n",
        "\n",
        "my_list = [1, 2, 3, 4, 5, 6]\n",
        "index = 0\n",
        "while game:   \n",
        "    if my_list[index] == 4:\n",
        "        game = False\n",
        "    print(my_list[index])\n",
        "    index += 1"
      ]
    },
    {
      "attachments": {},
      "cell_type": "markdown",
      "metadata": {
        "id": "ND-WrYKfOCqv"
      },
      "source": [
        "##### While & For Loops Used Together"
      ]
    },
    {
      "cell_type": "code",
      "execution_count": null,
      "metadata": {
        "id": "Mq17GWA_OCqv",
        "outputId": "55c58baf-c98d-4d1d-df05-60fa2f90975b"
      },
      "outputs": [
        {
          "name": "stdout",
          "output_type": "stream",
          "text": [
            "\n",
            " While Loop Iteration: 0\n",
            "For Loop Iteration: 0\n",
            "For Loop Iteration: 1\n",
            "\n",
            " While Loop Iteration: 1\n",
            "For Loop Iteration: 0\n",
            "For Loop Iteration: 1\n",
            "\n",
            " While Loop Iteration: 2\n",
            "For Loop Iteration: 0\n",
            "For Loop Iteration: 1\n",
            "\n",
            " While Loop Iteration: 3\n",
            "For Loop Iteration: 0\n",
            "For Loop Iteration: 1\n",
            "\n",
            " While Loop Iteration: 4\n",
            "For Loop Iteration: 0\n",
            "For Loop Iteration: 1\n"
          ]
        }
      ],
      "source": [
        "j = 0\n",
        "\n",
        "while j < 10:\n",
        "    print(\"\\n While Loop Iteration: \" + str(j))\n",
        "    \n",
        "    for i in range(2):\n",
        "        print(\"For Loop Iteration: \" + str(i))\n",
        "        \n",
        "    j += 1"
      ]
    },
    {
      "attachments": {},
      "cell_type": "markdown",
      "metadata": {
        "id": "cSkVucZfOCqv"
      },
      "source": [
        "##### The Range Function"
      ]
    },
    {
      "cell_type": "code",
      "execution_count": null,
      "metadata": {
        "id": "cLsWvxRoOCqv",
        "outputId": "4ca85eda-5a2c-430c-e128-f7c401ef5ace"
      },
      "outputs": [
        {
          "name": "stdout",
          "output_type": "stream",
          "text": [
            "0\n",
            "1\n",
            "2\n",
            "3\n",
            "4\n",
            "5\n",
            "6\n",
            "7\n",
            "8\n",
            "9\n",
            "\n",
            "\n",
            "1\n",
            "2\n",
            "3\n",
            "4\n",
            "5\n",
            "6\n",
            "7\n",
            "8\n",
            "9\n",
            "\n",
            "\n",
            "1\n",
            "4\n",
            "7\n"
          ]
        }
      ],
      "source": [
        "# range(start, stop, step) - stop is required and start defaults to 0 if none is given\n",
        "for i in range(10): #stop\n",
        "    print(i)\n",
        "print(\"\\n\")\n",
        "for i in range(1, 10): #start, stop\n",
        "    print(i)\n",
        "print(\"\\n\")\n",
        "for i in range(1, 10, 3): #start, stop, step\n",
        "    print(i)"
      ]
    },
    {
      "attachments": {},
      "cell_type": "markdown",
      "metadata": {
        "id": "sqnOildPOCqv"
      },
      "source": [
        "### String Manipulation Exercise"
      ]
    },
    {
      "cell_type": "code",
      "execution_count": null,
      "metadata": {
        "id": "U-Bq6RZPOCqv"
      },
      "outputs": [],
      "source": [
        "names = ['    coNNor', 'max', ' EVan ', 'JORDAN']\n",
        "# HINT: You will need to use a for loop for iteration\n",
        "# Loop through the names list, remove white space and capitalize the first letter of each name. Print each new name.\n",
        "\n"
      ]
    },
    {
      "cell_type": "code",
      "execution_count": null,
      "metadata": {
        "id": "W9Du8s0BOCqv",
        "outputId": "9bdfa008-e075-41c4-f226-50778cb22adc"
      },
      "outputs": [
        {
          "name": "stdout",
          "output_type": "stream",
          "text": [
            "Connor\n",
            "Max\n",
            "Evan\n",
            "Jordan\n"
          ]
        }
      ],
      "source": [
        "for name in names:\n",
        "    print(name.strip().title())\n"
      ]
    },
    {
      "cell_type": "code",
      "execution_count": null,
      "metadata": {
        "id": "KDPr6K_eOCqw",
        "outputId": "0e154ea5-ff95-4bdf-f2af-ed303102ecff",
        "scrolled": true
      },
      "outputs": [
        {
          "name": "stdout",
          "output_type": "stream",
          "text": [
            "Connor\n",
            "Max\n",
            "Evan\n",
            "Jordan\n",
            "['Connor', 'Max', 'Evan', 'Jordan']\n",
            "Connor\n",
            "Max\n",
            "Evan\n",
            "Jordan\n",
            "['Connor', 'Max', 'Evan', 'Jordan']\n"
          ]
        }
      ],
      "source": [
        "for i in names:\n",
        "    print(i.strip().title())\n",
        "\n",
        "for i in range(len(names)):\n",
        "     names[i] = names[i].strip().title()\n",
        "print(names)\n",
        "\n",
        "names_list = []\n",
        "for name in names:\n",
        "    print(name.strip().title())\n",
        "    names_list.append(name.strip().title())\n",
        "print(names_list)\n"
      ]
    },
    {
      "cell_type": "code",
      "execution_count": null,
      "metadata": {
        "id": "dgKpCgZnOCqw",
        "outputId": "6b5e6c8f-2a72-4554-994b-744df5b78c98"
      },
      "outputs": [
        {
          "name": "stdout",
          "output_type": "stream",
          "text": [
            "Connor Max Evan Jordan None\n"
          ]
        }
      ],
      "source": [
        "def unique(list1):\n",
        " \n",
        "    # initialize a null list\n",
        "    unique_list = []\n",
        " \n",
        "    # traverse for all elements\n",
        "    for x in list1:\n",
        "        # check if exists in unique_list or not\n",
        "        if x not in unique_list:\n",
        "            unique_list.append(x)\n",
        "    # print list\n",
        "    for x in unique_list:\n",
        "        print(x, end=\" \")\n",
        "\n",
        "print(unique(names))\n"
      ]
    },
    {
      "attachments": {},
      "cell_type": "markdown",
      "metadata": {
        "id": "86QcewFQOCqw"
      },
      "source": [
        "## Lists"
      ]
    },
    {
      "attachments": {},
      "cell_type": "markdown",
      "metadata": {
        "id": "F20xjK18OCqw"
      },
      "source": [
        "##### Declaring Lists"
      ]
    },
    {
      "cell_type": "code",
      "execution_count": null,
      "metadata": {
        "id": "JcQglZYhOCqw",
        "outputId": "e79db181-fc2d-4674-8d24-a29ce552c733"
      },
      "outputs": [
        {
          "name": "stdout",
          "output_type": "stream",
          "text": [
            "['Ryan', 'Tenzin', 'Austin', 'Dylan', 'Mohammad']\n"
          ]
        }
      ],
      "source": [
        "our_list = [] #<-- empty list\n",
        "\n",
        "names = [\"Ryan\", \"Tenzin\", \"Austin\", \"Dylan\", \"Mohammad\"]\n",
        "numbers = [1, 2, 34, 4, 5, 6, 10]\n",
        "\n",
        "print(names)"
      ]
    },
    {
      "attachments": {},
      "cell_type": "markdown",
      "metadata": {
        "id": "DGE_YXCSOCqw"
      },
      "source": [
        "##### Indexing a List"
      ]
    },
    {
      "cell_type": "code",
      "execution_count": null,
      "metadata": {
        "id": "WcEPHt38OCqw",
        "outputId": "caad25dd-2e05-4a5b-bd15-e87f6af35088"
      },
      "outputs": [
        {
          "name": "stdout",
          "output_type": "stream",
          "text": [
            "Austin\n",
            "['Tenzin', 'Austin', 'Dylan', 'Mohammad']\n",
            "['Ryan', 'Tenzin']\n",
            "['Tenzin', 'Dylan']\n",
            "['Mohammad', 'Dylan', 'Austin', 'Tenzin', 'Ryan']\n"
          ]
        }
      ],
      "source": [
        "# [start: stop: step] --> last item [-1]\n",
        "names = [\"Ryan\", \"Tenzin\", \"Austin\", \"Dylan\", \"Mohammad\"]\n",
        "\n",
        "#single index\n",
        "print(names[2])\n",
        "\n",
        "# Print Starting at index 1 and going to the end of the list\n",
        "print(names[1:])\n",
        "\n",
        "#Print starting at the beginning of the list and go to the specified index\n",
        "print(names[:2])\n",
        "\n",
        "#Print starting at index 1 and stepping by 2\n",
        "print(names[1::2])\n",
        "\n",
        "#print starting at the back and going to the front\n",
        "print(names[::-1])"
      ]
    },
    {
      "attachments": {},
      "cell_type": "markdown",
      "metadata": {
        "id": "Ley7cGZgOCqw"
      },
      "source": [
        "### List Methods"
      ]
    },
    {
      "attachments": {},
      "cell_type": "markdown",
      "metadata": {
        "id": "8y4A9cXiOCqx"
      },
      "source": [
        "##### .append()"
      ]
    },
    {
      "cell_type": "code",
      "execution_count": null,
      "metadata": {
        "id": "6uSY1onROCqx",
        "outputId": "91f8e4e7-5d46-43f2-deca-e2d9f9711411"
      },
      "outputs": [
        {
          "name": "stdout",
          "output_type": "stream",
          "text": [
            "['Ryan', 'Tenzin', 'Austin', 'Dylan', 'Mohammad', 'Alex']\n",
            "['Ryan', 'Tenzin', 'Austin', 'Dylan', 'Mohammad', 'Alex', 'Kayla']\n",
            "['Ryan', 'Tenzin', 'Austin', 'Dylan', 'Mohammad', 'Alex', 'Kayla', 2]\n"
          ]
        }
      ],
      "source": [
        "names = [\"Ryan\", \"Tenzin\", \"Austin\", \"Dylan\", \"Mohammad\"]\n",
        "names.append('Alex')\n",
        "print(names)\n",
        "names.append('Kayla')\n",
        "print(names)\n",
        "names.append(2)\n",
        "print(names)\n"
      ]
    },
    {
      "cell_type": "code",
      "execution_count": null,
      "metadata": {
        "id": "2ksN5IUnOCqx",
        "outputId": "c0c14dad-3b1e-4051-f675-d77b4154c194"
      },
      "outputs": [
        {
          "name": "stdout",
          "output_type": "stream",
          "text": [
            "['Ryan', 'Tenzin', 'Austin', 'Dylan', 'Mohammad', 'Bill', 'Ted']\n",
            "['Ryan', 'Tenzin', 'Austin', 'Dylan', 'Mohammad', 'Bill', 'Ted', 'Bill', 'Ted']\n"
          ]
        }
      ],
      "source": [
        "# names = [\"Ryan\", \"Tenzin\", \"Austin\", \"Dylan\", \"Mohammad\"]\n",
        "# names2 = [\"Bill\", \"Ted\"]\n",
        "\n",
        "# for name in names2:\n",
        "#     names.append(name)\n",
        "# print(names)\n",
        "\n",
        "# names3 = names + names2\n",
        "# print(names3)"
      ]
    },
    {
      "attachments": {},
      "cell_type": "markdown",
      "metadata": {
        "id": "wLriD6_8OCqx"
      },
      "source": [
        "##### .insert()"
      ]
    },
    {
      "cell_type": "code",
      "execution_count": null,
      "metadata": {
        "id": "Y5mJK4z_OCqx",
        "outputId": "788c0add-fd4b-4dc9-a7a8-1b5ca32928c2"
      },
      "outputs": [
        {
          "name": "stdout",
          "output_type": "stream",
          "text": [
            "['Ryan', 'Tenzin', 'Austin', 'Sam', 'Sam', 10, 'Sam', 10, 'Dylan', 'Mohammad', 'Alex', 'Kayla', 2]\n",
            "['Ryan', 'Tenzin', 'Austin', 'Sam', 10, 'Sam', 10, 'Sam', 10, 'Dylan', 'Mohammad', 'Alex', 'Kayla', 2]\n",
            "[5, 6, 1, 'Sam', 10, 11, 334, 1341, 1515]\n"
          ]
        }
      ],
      "source": [
        "#our_list.insert(index, value)\n",
        "names.insert(3, \"Sam\")\n",
        "print(names)\n",
        "\n",
        "names.insert(4, 10)\n",
        "print(names)\n",
        "\n",
        "new_data = [5, 6, 1, 10, 11, 334, 1341, 1515]\n",
        "\n",
        "for i in range(len(new_data)):\n",
        "    if i == 3:\n",
        "        new_data.insert(i, names[i])\n",
        "print(new_data)\n"
      ]
    },
    {
      "attachments": {},
      "cell_type": "markdown",
      "metadata": {
        "id": "4HH6WoVVOCqx"
      },
      "source": [
        "##### .pop()"
      ]
    },
    {
      "cell_type": "code",
      "execution_count": null,
      "metadata": {
        "id": "MKyr8pj3OCqx",
        "outputId": "0529f7d0-3579-4712-ce77-d7f8302a412e"
      },
      "outputs": [
        {
          "name": "stdout",
          "output_type": "stream",
          "text": [
            "Mohammad\n",
            "['Ryan', 'Tenzin', 'Austin', 'Alex', 'Kayla', 2]\n",
            "2\n",
            "['Ryan', 'Tenzin', 'Austin', 'Alex', 'Kayla']\n"
          ]
        }
      ],
      "source": [
        "# default is the last value if no parameter is given\n",
        "# pop returns the element that was removed in case you want to assign it into a variable\n",
        "\n",
        "bye_bye_name = names.pop(3)\n",
        "print(bye_bye_name)\n",
        "\n",
        "print(names)\n",
        "\n",
        "print(names.pop())\n",
        "print(names)\n",
        "\n",
        "\n",
        "\n"
      ]
    },
    {
      "attachments": {},
      "cell_type": "markdown",
      "metadata": {
        "id": "qJledBXJOCqy"
      },
      "source": [
        "##### .remove()"
      ]
    },
    {
      "cell_type": "code",
      "execution_count": null,
      "metadata": {
        "id": "FZp5MQaFOCqy",
        "outputId": "dee4ca90-f5ba-440a-b387-e046e3514eaa"
      },
      "outputs": [
        {
          "name": "stdout",
          "output_type": "stream",
          "text": [
            "['Bob', 'Bob', 'Billy', 'Berry', 'Bertha', 'Bob', 'Bert']\n",
            "['Billy', 'Berry', 'Bertha', 'Bert']\n"
          ]
        }
      ],
      "source": [
        "# value to be removed, not an index\n",
        "names = ['Bob', 'Bob', 'Billy', 'Berry', \"Bertha\", 'Bob', 'Bert']\n",
        "\n",
        "print(names)\n",
        "\n",
        "while 'Bob' in names:\n",
        "    names.remove('Bob')\n",
        "print(names)\n"
      ]
    },
    {
      "cell_type": "code",
      "execution_count": null,
      "metadata": {
        "id": "SJBbsg5ROCqy",
        "outputId": "de6d0b09-865a-48b0-d108-68fbc5295b76"
      },
      "outputs": [
        {
          "name": "stdout",
          "output_type": "stream",
          "text": [
            "['Billy', 'Berry', 'Bertha', 'Bob', 'Bert']\n"
          ]
        }
      ],
      "source": [
        "names = ['Bob', 'Billy', 'Berry', \"Bob\", \"Bertha\", 'Bob', \"Bob\", 'Bert']\n",
        "\n",
        "for name in names:\n",
        "    if name == \"Bob\":\n",
        "        names.remove(name)\n",
        "print(names)"
      ]
    },
    {
      "attachments": {},
      "cell_type": "markdown",
      "metadata": {
        "id": "cq_HE8k5OCqy"
      },
      "source": [
        "### Working With Lists"
      ]
    },
    {
      "attachments": {},
      "cell_type": "markdown",
      "metadata": {
        "id": "pvlgJjwROCqy"
      },
      "source": [
        "##### del()"
      ]
    },
    {
      "cell_type": "code",
      "execution_count": null,
      "metadata": {
        "id": "UuG8KCj0OCqy",
        "outputId": "6dbe91d5-ac93-4030-f764-c8cc7622df87"
      },
      "outputs": [
        {
          "ename": "SyntaxError",
          "evalue": "cannot delete literal (13714010.py, line 6)",
          "output_type": "error",
          "traceback": [
            "\u001b[1;36m  Input \u001b[1;32mIn [57]\u001b[1;36m\u001b[0m\n\u001b[1;33m    del(\"Berry\")\u001b[0m\n\u001b[1;37m        ^\u001b[0m\n\u001b[1;31mSyntaxError\u001b[0m\u001b[1;31m:\u001b[0m cannot delete literal\n"
          ]
        }
      ],
      "source": [
        "# index to be removed, not value \n",
        "# BE CAREFUL with del, can cause an indexing error if not used carefully\n",
        "del(names[0])\n",
        "print(names)\n",
        "\n",
        "\n"
      ]
    },
    {
      "attachments": {},
      "cell_type": "markdown",
      "metadata": {
        "id": "6iD9en1gOCqy"
      },
      "source": [
        "##### min()"
      ]
    },
    {
      "cell_type": "code",
      "execution_count": null,
      "metadata": {
        "id": "ywl_FH7_OCqz",
        "outputId": "101f9ce3-5646-4cd5-daa4-ba393f1c7c2c"
      },
      "outputs": [
        {
          "name": "stdout",
          "output_type": "stream",
          "text": [
            "-12\n",
            "Alex\n"
          ]
        }
      ],
      "source": [
        "# return the smallest item in a list\n",
        "numbers = [3, 6, 1, 5, 10, -12]\n",
        "print(min(numbers))\n",
        "\n",
        "names = [\"Ryan\", \"Alex\", \"Zoop\", \"Xenry\"]\n",
        "print(min(names))"
      ]
    },
    {
      "attachments": {},
      "cell_type": "markdown",
      "metadata": {
        "id": "2Ln-dXmdOCqz"
      },
      "source": [
        "##### max()"
      ]
    },
    {
      "cell_type": "code",
      "execution_count": null,
      "metadata": {
        "id": "EU1euhtrOCqz",
        "outputId": "79393300-e4c3-46dd-c426-29272b2f6269"
      },
      "outputs": [
        {
          "name": "stdout",
          "output_type": "stream",
          "text": [
            "10\n",
            "Zoop\n"
          ]
        }
      ],
      "source": [
        "# returns largest item in a list\n",
        "\n",
        "print(max(numbers))\n",
        "\n",
        "print(max(names))"
      ]
    },
    {
      "attachments": {},
      "cell_type": "markdown",
      "metadata": {
        "id": "gJnGPMRrOCqz"
      },
      "source": [
        "##### sum()"
      ]
    },
    {
      "cell_type": "code",
      "execution_count": null,
      "metadata": {
        "id": "ikptJwdzOCqz",
        "outputId": "79fe5f0d-a4a8-45e0-a1fb-d77777514170"
      },
      "outputs": [
        {
          "name": "stdout",
          "output_type": "stream",
          "text": [
            "13\n"
          ]
        }
      ],
      "source": [
        "# return the sum of all numbers in a list\n",
        "\n",
        "print(sum(numbers))\n",
        "\n"
      ]
    },
    {
      "attachments": {},
      "cell_type": "markdown",
      "metadata": {
        "id": "6P3t3WDeOCqz"
      },
      "source": [
        "##### sorted()"
      ]
    },
    {
      "cell_type": "code",
      "execution_count": null,
      "metadata": {
        "id": "tWxvJMHyOCqz",
        "outputId": "8b1c93ca-6390-47a5-9ba8-ebfc37384c2a"
      },
      "outputs": [
        {
          "name": "stdout",
          "output_type": "stream",
          "text": [
            "[-12, 1, 3, 5, 6, 10]\n",
            "[-12, 1, 3, 5, 6, 10]\n"
          ]
        }
      ],
      "source": [
        "#sorted will return a new sorted list, create a new variable\n",
        "numbers = [3, 6, 1, 5, 10, -12]\n",
        "\n",
        "print(sorted(numbers))\n",
        "sorted_nums = sorted(numbers)\n",
        "print(sorted_nums)"
      ]
    },
    {
      "attachments": {},
      "cell_type": "markdown",
      "metadata": {
        "id": "k-YRu77tOCqz"
      },
      "source": [
        "##### .sort() <br>\n",
        "<p>Difference between sort and sorted, is that sorted doesn't change original list it returns a copy, while .sort changes the original list</p>"
      ]
    },
    {
      "cell_type": "code",
      "execution_count": null,
      "metadata": {
        "id": "e2OpbiJlOCqz",
        "outputId": "2a679815-9fa1-4194-8f62-8fb50d2f41b0"
      },
      "outputs": [
        {
          "name": "stdout",
          "output_type": "stream",
          "text": [
            "Numbers before sort [3, 6, 1, 5, 10, -12]\n",
            "None\n",
            "Numbers after sort [-12, 1, 3, 5, 6, 10]\n",
            "Hello\n",
            "Hello\n",
            "hello\n"
          ]
        }
      ],
      "source": [
        "#.sort() will sort the original list\n",
        "numbers = [3, 6, 1, 5, 10, -12]\n",
        "print(\"Numbers before sort\", numbers)\n",
        "print(numbers.sort())\n",
        "print(\"Numbers after sort\", numbers)\n",
        "my_string = \"hello\"\n",
        "title_string = my_string.title()\n",
        "print(title_string)\n",
        "print(my_string.title())\n",
        "print(my_string)"
      ]
    },
    {
      "attachments": {},
      "cell_type": "markdown",
      "metadata": {
        "id": "8CB5KPHUOCq0"
      },
      "source": [
        "##### Copying a List"
      ]
    },
    {
      "cell_type": "code",
      "execution_count": null,
      "metadata": {
        "id": "6PSdqRe4OCq0",
        "outputId": "3e4caeba-5b33-45b1-82d0-2270fc91415f"
      },
      "outputs": [
        {
          "name": "stdout",
          "output_type": "stream",
          "text": [
            "[3, 6, 1, 5, 10, -12]\n",
            "[3, 6, 1, 5, 10, -12]\n"
          ]
        }
      ],
      "source": [
        "# [:] copies a list, doesn't alter original'\n",
        "numbers = [3, 6, 1, 5, 10, -12]\n",
        "new_list = numbers[:]\n",
        "\n",
        "print(numbers)\n",
        "print(new_list)"
      ]
    },
    {
      "attachments": {},
      "cell_type": "markdown",
      "metadata": {
        "id": "4clDO2t-OCq0"
      },
      "source": [
        "##### Looping Through Lists"
      ]
    },
    {
      "cell_type": "code",
      "execution_count": null,
      "metadata": {
        "id": "JuInUJugOCq0",
        "outputId": "50e956cb-3d08-4f28-8695-288fc5de6dd6"
      },
      "outputs": [
        {
          "name": "stdout",
          "output_type": "stream",
          "text": [
            "Han Solo\n",
            "Leia Organa\n",
            "Luke Skywalker\n",
            "Lando Calrissian\n",
            "Mace Windu\n",
            "\n",
            "\n",
            "Han Solo\n",
            "Leia Organa\n",
            "Luke Skywalker\n",
            "Lando Calrissian\n",
            "Mace Windu\n",
            "1\n",
            "1\n",
            "0 Han Solo\n",
            "1 Leia Organa\n",
            "2 Luke Skywalker\n",
            "3 Lando Calrissian\n",
            "4 Mace Windu\n"
          ]
        }
      ],
      "source": [
        "#Two ways to loop through a list. one is by index and the other is by value, using the \"in\" keyword\n",
        "names = [\"Han Solo\", \"Leia Organa\", \"Luke Skywalker\", \"Lando Calrissian\", \"Mace Windu\"]\n",
        "#looping by index\n",
        "for i in range(len(names)):\n",
        "    print(names[i])\n",
        "    \n",
        "print(\"\\n\")\n",
        "    \n",
        "#looping by value for each item in the list\n",
        "for name in names:\n",
        "    print(name)\n",
        "    \n",
        "#Return the index of Leia Organa\n",
        "\n",
        "for i in range(len(names)):\n",
        "    if names[i] == \"Leia Organa\":\n",
        "        print(i)\n",
        "        \n",
        "#enumerate\n",
        "for i, v in enumerate(names):\n",
        "    if v == \"Leia Organa\":\n",
        "        print(i)\n",
        "        \n",
        "for i, v in enumerate(names):\n",
        "    print(i, v)\n",
        "    \n",
        "#(ヘ･_･)ヘ┳━┳     (╯‵□′)╯︵┻━┻"
      ]
    },
    {
      "attachments": {},
      "cell_type": "markdown",
      "metadata": {
        "id": "QbGMYmsiOCq1"
      },
      "source": [
        "##### 'in' keyword"
      ]
    },
    {
      "cell_type": "code",
      "execution_count": null,
      "metadata": {
        "id": "A-xFGM_sOCq1",
        "outputId": "96b24113-cdd7-418d-c88d-f6e6877c5a9d"
      },
      "outputs": [
        {
          "name": "stdout",
          "output_type": "stream",
          "text": [
            "Ranger\n"
          ]
        }
      ],
      "source": [
        "names = [\"Ryan\", \"Alex\", \"Tenzin\", \"Austin\", \"Jeong\", \"Nate\"]\n",
        "\n",
        "if \"Nate\" in names:\n",
        "    print(\"Ranger\")\n",
        "else: \n",
        "    print(\"Not a ranger\")"
      ]
    },
    {
      "cell_type": "code",
      "execution_count": null,
      "metadata": {
        "id": "E_Sz3SuDOCq1",
        "outputId": "6071187b-de5e-4c24-a883-d131ed266838"
      },
      "outputs": [
        {
          "name": "stdout",
          "output_type": "stream",
          "text": [
            "nope\n",
            "nope\n",
            "Tenzin\n",
            "nope\n",
            "nope\n",
            "nope\n"
          ]
        }
      ],
      "source": [
        "# for name in names:\n",
        "#     if name[0] == \"T\":\n",
        "#         print(\"IIIIIIITS TENZIN\")\n",
        "#     else:\n",
        "#         print(\"tis not\")\n",
        "\n",
        "for name in names: \n",
        "    if \"T\" in name[0]:\n",
        "        print(\"Tenzin\")\n",
        "    else:\n",
        "        print(\"nope\")"
      ]
    },
    {
      "cell_type": "code",
      "execution_count": null,
      "metadata": {
        "id": "O2ZuZi2jOCq1",
        "outputId": "beb971f4-c502-4fd3-c93b-c6716dd5465a"
      },
      "outputs": [
        {
          "ename": "IndentationError",
          "evalue": "expected an indented block (2703666223.py, line 3)",
          "output_type": "error",
          "traceback": [
            "\u001b[1;36m  Input \u001b[1;32mIn [91]\u001b[1;36m\u001b[0m\n\u001b[1;33m    #         print(names[i][j])\u001b[0m\n\u001b[1;37m                                ^\u001b[0m\n\u001b[1;31mIndentationError\u001b[0m\u001b[1;31m:\u001b[0m expected an indented block\n"
          ]
        }
      ],
      "source": [
        "for i in range(len(names)):\n",
        "    for j in range(len(names[i])):\n",
        "        print(names[i][j])"
      ]
    },
    {
      "cell_type": "code",
      "execution_count": null,
      "metadata": {
        "id": "mbOeQ8GaOCq1"
      },
      "outputs": [],
      "source": []
    },
    {
      "attachments": {},
      "cell_type": "markdown",
      "metadata": {
        "id": "IVjvWTYzOCq1"
      },
      "source": [
        "##### 'not in' keyword"
      ]
    },
    {
      "cell_type": "code",
      "execution_count": null,
      "metadata": {
        "id": "HzM75UvjOCq2",
        "outputId": "03481066-9844-406b-fc5e-2772f37edba4"
      },
      "outputs": [
        {
          "name": "stdout",
          "output_type": "stream",
          "text": [
            "Frederick is not a Ranger, booooo Frederick\n"
          ]
        }
      ],
      "source": [
        "names = [\"Ryan\", \"Alex\", \"Tenzin\", \"Austin\", \"Jeong\", \"Nate\"]\n",
        "if \"Frederick\" not in names:\n",
        "    print(\"Frederick is not a Ranger, booooo Frederick\")"
      ]
    },
    {
      "attachments": {},
      "cell_type": "markdown",
      "metadata": {
        "id": "vHOG25nkOCq2"
      },
      "source": [
        "##### Checking an Empty List"
      ]
    },
    {
      "cell_type": "code",
      "execution_count": null,
      "metadata": {
        "id": "Zj88XO5tOCq2",
        "outputId": "eaee5975-bc89-4d9c-b30e-d6a431d8b030"
      },
      "outputs": [
        {
          "name": "stdout",
          "output_type": "stream",
          "text": [
            "That is an empty list. Would ya just look at it\n",
            "no\n"
          ]
        }
      ],
      "source": [
        "l_2 = []\n",
        "l_3 = None\n",
        "if l_2 == []:\n",
        "    print(\"That is an empty list. Would ya just look at it\")\n",
        "    \n",
        "if l_3 == l_2:\n",
        "    print(\"yes\")\n",
        "else: \n",
        "    print(\"no\")"
      ]
    },
    {
      "attachments": {},
      "cell_type": "markdown",
      "metadata": {
        "id": "gDHVejsCOCq2"
      },
      "source": [
        "##### Removing Instances with a Loop"
      ]
    },
    {
      "cell_type": "code",
      "execution_count": null,
      "metadata": {
        "id": "jysCsOerOCq2",
        "outputId": "891b9515-52e4-43ce-958d-83a6c6191c96"
      },
      "outputs": [
        {
          "name": "stdout",
          "output_type": "stream",
          "text": [
            "['Alex', 'Tenzin', 'Austin', 'Jeong', 'Nate']\n",
            "['Ryan', 'Alex', 'Tenzin', 'Jeong', 'Nate']\n"
          ]
        }
      ],
      "source": [
        "#while, remove\n",
        "names = [\"Ryan\", \"Alex\", \"Tenzin\", \"Austin\", \"Jeong\", \"Nate\"]\n",
        "while \"Ryan\" in names:\n",
        "    names.remove(\"Ryan\")\n",
        "print(names)\n",
        "names = [\"Ryan\", \"Alex\", \"Tenzin\", \"Austin\", \"Jeong\", \"Nate\"]\n",
        "#for loop, remove\n",
        "for name in names: \n",
        "    if name == \"Austin\":\n",
        "        names.remove(\"Austin\")\n",
        "print(names)"
      ]
    },
    {
      "attachments": {},
      "cell_type": "markdown",
      "metadata": {
        "id": "QRv0mWlPOCq2"
      },
      "source": [
        "### List Exercise <br>\n",
        "<p>Remove all duplicates<br><b>Extra: Create a program that will remove any duplicates from a given list</b></p>"
      ]
    },
    {
      "cell_type": "code",
      "execution_count": null,
      "metadata": {
        "id": "LICoHnlROCq2"
      },
      "outputs": [],
      "source": [
        "names = ['connor', 'connor', 'bob', 'connor', 'evan', 'max', 'evan', 2, 2, 2, 3, 3, 4, 'bob', 'kevin']\n",
        "# Hint 1: You will need an append\n",
        "# Hint 2: Using an empty list will make life easier\n",
        "\n",
        "\n"
      ]
    },
    {
      "cell_type": "code",
      "execution_count": null,
      "metadata": {
        "id": "9XsfXdiiOCq2",
        "outputId": "95e40916-5072-41bf-b504-a79f4f9cf062"
      },
      "outputs": [
        {
          "name": "stdout",
          "output_type": "stream",
          "text": [
            "['connor', 'bob', 'evan', 'max', 2, 3, 4, 'kevin']\n"
          ]
        }
      ],
      "source": [
        "my_dict = {}\n",
        "\n",
        "for name in names:\n",
        "    if name not in my_dict:\n",
        "        my_dict[name] = 1\n",
        "        \n",
        "print(list(my_dict.keys()))\n"
      ]
    },
    {
      "cell_type": "code",
      "execution_count": null,
      "metadata": {
        "id": "o0VgK-1kOCq3",
        "outputId": "0f59e049-ebcd-4eaf-bc10-8ac01938eaa1"
      },
      "outputs": [
        {
          "name": "stdout",
          "output_type": "stream",
          "text": [
            "tucker sam deliah connor bob evan max 2 3 4 kevin "
          ]
        }
      ],
      "source": [
        "names = ['connor', 'connor', 'bob', 'connor', 'evan', 'max', 'evan', 2, 2, 2, 3, 3, 4, 'bob', 'kevin']\n",
        "# Hint 1: You will need an append\n",
        "# Hint 2: Using an empty list will make life easier\n",
        "\n",
        "dogs = [\"tucker\",\"sam\", \"deliah\",\"sam\"]\n",
        "\n",
        "def unique(list1):\n",
        "    unique_list = []\n",
        "    for x in list1:\n",
        "        if x not in unique_list:\n",
        "            unique_list.append(x)\n",
        "    for x in unique_list:\n",
        "        print(x, end=\" \")\n",
        "        \n",
        "unique(dogs)\n",
        "\n",
        "unique(names)\n"
      ]
    },
    {
      "cell_type": "code",
      "execution_count": null,
      "metadata": {
        "id": "DQxhg1sROCq3",
        "outputId": "40fe32c2-bacb-4ed4-9af1-ecbe8ddb4414"
      },
      "outputs": [
        {
          "name": "stdout",
          "output_type": "stream",
          "text": [
            "['connor', 'bob', 'evan', 'max', 2, 3, 4, 'kevin']\n"
          ]
        }
      ],
      "source": [
        "def remove_dup(names):\n",
        "\n",
        "    new_list_of_names = []\n",
        "\n",
        "    for name in names:\n",
        "        if name not in new_list_of_names:\n",
        "            new_list_of_names.append(name)\n",
        "    return new_list_of_names\n",
        "print(remove_dup(names))\n"
      ]
    },
    {
      "cell_type": "code",
      "execution_count": null,
      "metadata": {
        "id": "xIvnPPtCOCq3",
        "outputId": "2ec7b5ca-d997-4c1a-e6c5-8ad2b893e60d"
      },
      "outputs": [
        {
          "name": "stdout",
          "output_type": "stream",
          "text": [
            "['connor', 'bob', 'evan', 'max', 2, 3, 4, 'kevin']\n"
          ]
        }
      ],
      "source": [
        "names = ['connor', 'connor', 'bob', 'connor', 'evan', 'max', 'evan', 2, 2, 2, 3, 3, 4, 'bob', 'kevin']\n",
        "\n",
        "new_list = []\n",
        "for name in names:\n",
        "    if name not in new_list:\n",
        "        new_list.append(name)\n",
        "print(new_list)\n"
      ]
    },
    {
      "cell_type": "code",
      "execution_count": null,
      "metadata": {
        "id": "tSufQfEvOCq3"
      },
      "outputs": [],
      "source": [
        "def rem_dup(names):\n",
        "    new_list = []\n",
        "    for things in names:\n",
        "        if things not in new_list:\n",
        "            new_list.append(things)\n",
        "    return new_list\n",
        "\n",
        "print(rem_dup(names))\n"
      ]
    },
    {
      "cell_type": "code",
      "execution_count": null,
      "metadata": {
        "id": "vgRoawneOCq3",
        "outputId": "7d825e2e-959f-4b50-d014-0cbd395bd538"
      },
      "outputs": [
        {
          "name": "stdout",
          "output_type": "stream",
          "text": [
            "['connor', 'max', 'evan', 2, 3, 4, 'bob', 'kevin']\n"
          ]
        }
      ],
      "source": [
        "names = ['connor', 'connor', 'bob', 'connor', 'evan', 'max', 'evan', 2, 2, 2, 3, 3, 4, 'bob', 'kevin']\n",
        "my_dict = {}\n",
        "index = 0\n",
        "\n",
        "# for name in names:\n",
        "#     if name not in my_dict:\n",
        "#         my_dict[name] = 1\n",
        "#     else:\n",
        "#         names.remove(name)\n",
        "\n",
        "while index < len(names):\n",
        "    if names[index] not in my_dict:\n",
        "        my_dict[names[index]] = 1\n",
        "        index += 1\n",
        "    else: \n",
        "        names.remove(names[index])\n",
        "print(names)\n",
        "\n",
        "\n",
        "    \n",
        "   \n",
        "    \n",
        "\n",
        "    "
      ]
    },
    {
      "attachments": {},
      "cell_type": "markdown",
      "metadata": {
        "id": "r16bmjOFOCq3"
      },
      "source": [
        "### List Comprehensions <br>\n",
        "<p>Creating a quickly generated list to work with<br>*result*  = [*transform*    *iteration*         *filter*     ]</p>"
      ]
    },
    {
      "attachments": {},
      "cell_type": "markdown",
      "metadata": {
        "id": "nMhO41IDOCq4"
      },
      "source": [
        "##### In a list comprehension we have a few pieces:\n",
        "1. The first is the counter/ variable - IN this the variable is x\n",
        "2. then we have a transform for the variable\n",
        "3. The finale part of a list comp is called the condition\n",
        "\n",
        "```python\n",
        "    [transform, iteration/variable, condition]\n",
        "```"
      ]
    },
    {
      "cell_type": "code",
      "execution_count": null,
      "metadata": {
        "id": "GJm4-zrNOCq4",
        "outputId": "a476d1df-6e65-424e-e7ff-c3c6b0d38768",
        "scrolled": true
      },
      "outputs": [
        {
          "name": "stdout",
          "output_type": "stream",
          "text": [
            "[4, 16, 25, 36, 49, 64, 81, 100]\n",
            "[4, 16, 25, 36, 49, 64, 81, 100]\n",
            "[4, 16, 36, 64, 100]\n"
          ]
        }
      ],
      "source": [
        "nums = [2, 4, 5, 6, 7, 8, 9, 10]\n",
        "nums_squared = []\n",
        "\n",
        "for num in nums:\n",
        "    nums_squared.append(num**2)\n",
        "print(nums_squared)\n",
        "\n",
        "nums_squared = [x**2 for x in nums]\n",
        "\n",
        "print(nums_squared)\n",
        "\n",
        "nums_squared = [x**2 for x in nums if x%2 == 0]\n",
        "\n",
        "print(nums_squared)\n"
      ]
    },
    {
      "attachments": {},
      "cell_type": "markdown",
      "metadata": {
        "id": "O7bD4TZ4OCq4"
      },
      "source": [
        "There are a few benefits to using List comprehensions. The most obvious would be that we now have shorter code to work with instead of using 3+ lines of code in the for loop variant.\n",
        "\n",
        "Another is an added benefit to memory usage. Since the list's memory is allocated first before adding elements to it, we don't have to resize the list once we add elements to it.\n",
        "\n",
        "Lastly, list comprehensions are considered the \"pythonic\" way to write code by the PEP8 standards (Python Style Guide)"
      ]
    },
    {
      "cell_type": "code",
      "execution_count": null,
      "metadata": {
        "id": "qbAXdrwXOCq4",
        "outputId": "1188467a-e760-41a9-90db-a5474f098da5"
      },
      "outputs": [
        {
          "name": "stdout",
          "output_type": "stream",
          "text": [
            "['t', 's', 'd', 'e']\n",
            "['t', 's', 'd', 'e']\n"
          ]
        }
      ],
      "source": [
        "dogs = [\"tucker\",\"sam\", \"deliah\",\"eyo\"]\n",
        "\n",
        "first_letters = [name[0] for name in dogs]\n",
        "\n",
        "print(first_letters)\n",
        "\n",
        "first_letters1 = []\n",
        "for name in dogs:\n",
        "    first_letters1.append(name[0])\n",
        "print(first_letters1)\n",
        "    "
      ]
    },
    {
      "cell_type": "code",
      "execution_count": null,
      "metadata": {
        "id": "09irEp5_OCq4",
        "outputId": "34caf0bc-cadf-4c37-a79a-25616305bbb5"
      },
      "outputs": [
        {
          "name": "stdout",
          "output_type": "stream",
          "text": [
            "['sam', 'sean']\n",
            "['sam', 'sean']\n"
          ]
        }
      ],
      "source": [
        "dogs = [\"tucker\",\"sam\", \"deliah\",\"eyo\", \"sean\", \"henri\"]\n",
        "s_names = []\n",
        "for name in dogs:\n",
        "    if name[0] == 's':\n",
        "        s_names.append(name)\n",
        "print(s_names)\n",
        "\n",
        "#conditional in list comprehension\n",
        "# if always comes after the for\n",
        "s_names = [name for name in dogs if name[0] == \"s\"]\n",
        "\n",
        "print(s_names)"
      ]
    },
    {
      "cell_type": "code",
      "execution_count": null,
      "metadata": {
        "id": "3AIIUvB2OCq4",
        "outputId": "c33f3ffc-606d-4a9c-d81f-0142d4b46132"
      },
      "outputs": [
        {
          "name": "stdout",
          "output_type": "stream",
          "text": [
            "[0, 1, 4, 3, 16, 5, 36, 7, 64, 9]\n"
          ]
        }
      ],
      "source": [
        "print([x**2 if x%2 == 0 elif x ==  else x for x in range(10)])\n"
      ]
    },
    {
      "cell_type": "code",
      "execution_count": null,
      "metadata": {
        "id": "AMFcRjt0OCq4",
        "outputId": "090e86c5-f8b0-4fcd-b5e1-234f3f2aee25"
      },
      "outputs": [
        {
          "name": "stdout",
          "output_type": "stream",
          "text": [
            "[0, 1, 4, 3, 16, 125, 36, 7, 64, 9]\n"
          ]
        }
      ],
      "source": [
        "print([x**2 if x%2 == 0 else(x**3 if x%5 == 0 else x)for x in range(10)])\n"
      ]
    },
    {
      "attachments": {},
      "cell_type": "markdown",
      "metadata": {
        "id": "bLeiyLLTOCq5"
      },
      "source": [
        "### Tuples <br>\n",
        "<p><b>Defined as an immutable list</b></p><br>Seperated by commas using parenthesis"
      ]
    },
    {
      "cell_type": "code",
      "execution_count": null,
      "metadata": {
        "id": "_e77jYOROCq5",
        "outputId": "3875569e-67d9-4b3a-f302-6933f52b4c57"
      },
      "outputs": [
        {
          "name": "stdout",
          "output_type": "stream",
          "text": [
            "(1, 2, 3)\n",
            "(4, 5, 6)\n",
            "<class 'tuple'>\n",
            "2\n",
            "6\n",
            "tuple length 3\n",
            "1\n",
            "2\n",
            "3\n",
            "4\n",
            "5\n",
            "6\n"
          ]
        }
      ],
      "source": [
        "tup_1 = (1, 2, 3) #one way to create a tuple\n",
        "tup_2 = 4, 5, 6 #another also nice way to create a tuple\n",
        "\n",
        "print(tup_1)\n",
        "print(tup_2)\n",
        "\n",
        "print(type(tup_1))\n",
        "\n",
        "print(tup_1[1])\n",
        "print(tup_2[2])\n",
        "\n",
        "print(\"tuple length\", len(tup_2))\n",
        "\n",
        "for num in tup_1:\n",
        "    print(num)\n",
        "    \n",
        "for i in range(len(tup_2)):\n",
        "    print(tup_2[i])"
      ]
    },
    {
      "attachments": {},
      "cell_type": "markdown",
      "metadata": {
        "id": "LuhsZ541OCq5"
      },
      "source": [
        "##### sorted()"
      ]
    },
    {
      "cell_type": "code",
      "execution_count": null,
      "metadata": {
        "id": "NWSNhMJGOCq5",
        "outputId": "6c4ea44f-a476-4e06-d224-29f1580b8ff1"
      },
      "outputs": [
        {
          "name": "stdout",
          "output_type": "stream",
          "text": [
            "[1, 5, 10, 20, 95, 123]\n",
            "(5, 12, 654, 234, 7643, 34, 20, 5, 1, 10, 95, 123)\n"
          ]
        }
      ],
      "source": [
        "tup = (20, 5, 1, 10, 95, 123)\n",
        "\n",
        "print(sorted(tup))\n",
        "\n",
        "some_list = [5, 12, 654, 234, 7643, 34]\n",
        "\n",
        "# combine_list = some_list + tup\n",
        "\n",
        "new_tup = tuple(some_list)\n",
        "\n",
        "new_new_tup = new_tup + tup\n",
        "print(new_new_tup)\n",
        "\n",
        "\n"
      ]
    },
    {
      "cell_type": "code",
      "execution_count": null,
      "metadata": {
        "id": "cTY4yl9VOCq5",
        "outputId": "49d49f8a-a573-46b4-da7d-eb44b4d3cc6a"
      },
      "outputs": [
        {
          "name": "stdout",
          "output_type": "stream",
          "text": [
            "[1, 2, 3, 4, 5, 2, 3, 4, 5, 13, 12, 16, 1234]\n"
          ]
        }
      ],
      "source": [
        "# List Concatenation\n",
        "\n",
        "my_list = [1, 2, 3, 4, 5]\n",
        "my_list2 = [2, 3, 4, 5, 13, 12, 16, 1234]\n",
        "\n",
        "my_list3 = my_list + my_list2\n",
        "\n",
        "print(my_list3)"
      ]
    },
    {
      "attachments": {},
      "cell_type": "markdown",
      "metadata": {
        "id": "vigeMIxPOCq5"
      },
      "source": [
        "##### Adding values to a Tuple"
      ]
    },
    {
      "cell_type": "code",
      "execution_count": null,
      "metadata": {
        "id": "AzsaTdWmOCq5",
        "outputId": "ad68e299-75eb-4b39-d00f-e9e61b14828f"
      },
      "outputs": [
        {
          "name": "stdout",
          "output_type": "stream",
          "text": [
            "(20, 5, 1, 10, 95, 123, 5, 5, 5)\n",
            "(20, 5, 1, 10, 95, 123, 5, 5, 5, 6)\n"
          ]
        }
      ],
      "source": [
        "print(tup)\n",
        "\n",
        "tup = tup + (6, )\n",
        "print(tup)"
      ]
    },
    {
      "attachments": {},
      "cell_type": "markdown",
      "metadata": {
        "id": "U7VpOrn4OCq5"
      },
      "source": [
        "# Exercises"
      ]
    },
    {
      "attachments": {},
      "cell_type": "markdown",
      "metadata": {
        "id": "b7D7hw14OCq5"
      },
      "source": [
        "## Exercise 1 <br>\n",
        "<p>Using the given list, print out a filtered version of the list with only the numbers that are less than ten</b></i></p><br>\n"
      ]
    },
    {
      "cell_type": "code",
      "execution_count": null,
      "metadata": {
        "colab": {
          "base_uri": "https://localhost:8080/"
        },
        "id": "c1YHznqDOCq6",
        "outputId": "0a4d011f-68ae-4abb-ca7d-2b161cec040f"
      },
      "outputs": [
        {
          "name": "stdout",
          "output_type": "stream",
          "text": [
            "[1, 5, 8, 9]\n"
          ]
        }
      ],
      "source": [
        "alist = [1,11,14,5,8,9]\n",
        "less =[]\n",
        "for i in alist:\n",
        "  if i < 10:\n",
        "    less.append(i)\n",
        "print(less)\n",
        "\n",
        "\n"
      ]
    },
    {
      "attachments": {},
      "cell_type": "markdown",
      "metadata": {
        "id": "7bClP5nqOCq6"
      },
      "source": [
        "## Exercise 2 <br>\n",
        "<p>Merge and sort the two lists below<br>\n",
        "<b><i>Hint: You can use the .sort() method</i></b></p>"
      ]
    },
    {
      "cell_type": "code",
      "execution_count": 6,
      "metadata": {
        "colab": {
          "base_uri": "https://localhost:8080/"
        },
        "id": "fcclRjV7OCq6",
        "outputId": "13169fc4-7c4e-4ccc-d754-71c501a468ce"
      },
      "outputs": [
        {
          "name": "stdout",
          "output_type": "stream",
          "text": [
            "[1, 2, 3, 3, 4, 4, 5, 5, 6, 6, 7, 8, 10]\n"
          ]
        }
      ],
      "source": [
        "l_1 = [1,2,3,4,5,6]\n",
        "l_2 = [3,4,5,6,7,8,10]\n",
        "l_1.extend(l_2)\n",
        "l_1.sort()\n",
        "print (l_1)\n",
        "\n",
        "\n",
        "\n"
      ]
    },
    {
      "attachments": {},
      "cell_type": "markdown",
      "metadata": {
        "id": "LfomMLFuOCq6"
      },
      "source": [
        "## Exercise 3 <br>\n",
        "<p>Square every number from 1 to 15<br>\n"
      ]
    },
    {
      "cell_type": "code",
      "execution_count": 5,
      "metadata": {
        "colab": {
          "base_uri": "https://localhost:8080/"
        },
        "id": "9Q-xmVDJOCq6",
        "outputId": "2d86e5f9-6fd2-4b7e-a2e5-95afcb825d0e"
      },
      "outputs": [
        {
          "name": "stdout",
          "output_type": "stream",
          "text": [
            "1  squared =  1\n",
            "2  squared =  4\n",
            "3  squared =  9\n",
            "4  squared =  16\n",
            "5  squared =  25\n",
            "6  squared =  36\n",
            "7  squared =  49\n",
            "8  squared =  64\n",
            "9  squared =  81\n",
            "10  squared =  100\n",
            "11  squared =  121\n",
            "12  squared =  144\n",
            "13  squared =  169\n",
            "14  squared =  196\n",
            "15  squared =  225\n"
          ]
        }
      ],
      "source": [
        "\n",
        "for i in range(15+1):\n",
        "  if not(i==0):\n",
        "    print(i,\" squared = \",i**2)"
      ]
    },
    {
      "attachments": {},
      "cell_type": "markdown",
      "metadata": {
        "id": "_G_76bEnOCq6"
      },
      "source": [
        "## Exercise 4<br>\n",
        "<p>Using List Comprehension and the given list, print out a filtered list with \n",
        "only the names that start with the letter 'a'. \n",
        "The names in the outputted list should be title cased and have no whitespace.<br>\n"
      ]
    },
    {
      "cell_type": "code",
      "execution_count": 3,
      "metadata": {},
      "outputs": [
        {
          "name": "stdout",
          "output_type": "stream",
          "text": [
            "['Amy', 'Alex']\n"
          ]
        }
      ],
      "source": [
        "classmates = ['   amy', 'Briant', 'Ryan ', ' Alex', 'steve', '  ']\n",
        "# expected output = ['Amy', 'Alex']\n",
        "friends = [name.strip().title()\n",
        "          for name in classmates if name.strip().title() != '']\n",
        "print([friend for friend in friends if friend[0] == 'A'])\n"
      ]
    },
    {
      "attachments": {},
      "cell_type": "markdown",
      "metadata": {
        "id": "ub8XYYQEOCq6"
      },
      "source": [
        "## Exercise 5 <br>\n",
        "<p>Print all Prime numbers from 1 to 100<br>\n"
      ]
    },
    {
      "cell_type": "code",
      "execution_count": 1,
      "metadata": {},
      "outputs": [
        {
          "name": "stdout",
          "output_type": "stream",
          "text": [
            "prime 2\n",
            "prime 3\n",
            "prime 5\n",
            "prime 7\n",
            "prime 11\n",
            "prime 13\n",
            "prime 17\n",
            "prime 19\n",
            "prime 23\n",
            "prime 29\n",
            "prime 31\n",
            "prime 37\n",
            "prime 41\n",
            "prime 43\n",
            "prime 47\n",
            "prime 53\n",
            "prime 59\n",
            "prime 61\n",
            "prime 67\n",
            "prime 71\n",
            "prime 73\n",
            "prime 79\n",
            "prime 83\n",
            "prime 89\n",
            "prime 97\n"
          ]
        }
      ],
      "source": [
        "# loop through each number from 1 to 100\n",
        "for num in range(1, 101):\n",
        "    # prime numbers are greater than 1\n",
        "    if num > 1:\n",
        "        # check if the number is divisible by any number smaller than itself\n",
        "        for i in range(2, num):\n",
        "            if (num % i) == 0:\n",
        "                break\n",
        "        else:\n",
        "            # if the number is not divisible by any number other than itself and 1, it is a prime number\n",
        "            print(num)"
      ]
    }
  ],
  "metadata": {
    "colab": {
      "provenance": []
    },
    "kernelspec": {
      "display_name": "Python 3 (ipykernel)",
      "language": "python",
      "name": "python3"
    },
    "language_info": {
      "codemirror_mode": {
        "name": "ipython",
        "version": 3
      },
      "file_extension": ".py",
      "mimetype": "text/x-python",
      "name": "python",
      "nbconvert_exporter": "python",
      "pygments_lexer": "ipython3",
      "version": "3.11.2"
    }
  },
  "nbformat": 4,
  "nbformat_minor": 0
}
